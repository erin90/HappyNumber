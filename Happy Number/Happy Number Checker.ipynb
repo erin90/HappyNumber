{
 "cells": [
  {
   "cell_type": "markdown",
   "metadata": {},
   "source": [
    "# Happy Number Function\n",
    "by Erin Yabut"
   ]
  },
  {
   "cell_type": "code",
   "execution_count": 5,
   "metadata": {},
   "outputs": [
    {
     "name": "stdout",
     "output_type": "stream",
     "text": [
      "Enter a number here:49\n",
      "checking # 49...\n",
      "checking # 97...\n",
      "checking # 130...\n",
      "49 is a happy number :)\n"
     ]
    }
   ],
   "source": [
    "number = input(\"Enter a number here:\")\n",
    "\n",
    "def HappyNumber(n):\n",
    "    elist = []\n",
    "    numList = [int(x) for x in n]\n",
    "    for y in numList:\n",
    "        square = y**2\n",
    "        elist.append(square)\n",
    "    \n",
    "    s = sum(elist)\n",
    "    if s == 1:\n",
    "        print(number,\"is a happy number :)\")\n",
    "    else:\n",
    "        m = str(s)\n",
    "        print(\"checking # {}...\".format(n))\n",
    "        if m == number:\n",
    "            print(\"Finished checking...{} is a sad number :(\".format(number))\n",
    "        else:\n",
    "            return HappyNumber(m)\n",
    "\n",
    "HappyNumber(number)"
   ]
  },
  {
   "cell_type": "code",
   "execution_count": null,
   "metadata": {},
   "outputs": [],
   "source": []
  }
 ],
 "metadata": {
  "kernelspec": {
   "display_name": "Python 3",
   "language": "python",
   "name": "python3"
  },
  "language_info": {
   "codemirror_mode": {
    "name": "ipython",
    "version": 3
   },
   "file_extension": ".py",
   "mimetype": "text/x-python",
   "name": "python",
   "nbconvert_exporter": "python",
   "pygments_lexer": "ipython3",
   "version": "3.7.3"
  }
 },
 "nbformat": 4,
 "nbformat_minor": 4
}
